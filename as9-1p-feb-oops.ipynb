{
 "cells": [
  {
   "cell_type": "code",
   "execution_count": null,
   "id": "7e2c1aca-0d0c-4090-8a14-bacbc677c474",
   "metadata": {},
   "outputs": [],
   "source": [
    "\"\"\"Q1. Which function is used to open a file? What are the different modes of opening a file? Explain each mode\n",
    "of file opening.\n",
    "In Python, the open() function is used to open a file.\n",
    "It takes the file name and mode as arguments and returns a file object that you can use to read,\n",
    "write or manipulate the file.\n",
    "\n",
    "In Python, there are several modes that can be used when opening a file with the open() function. The following are the most commonly used modes:\n",
    "\n",
    "\"r\" (read-only mode) - opens the file for reading only. This is the default mode if no mode is specified.\n",
    "\"w\" (write mode) - opens the file for writing. If the file exists, its contents will be truncated and overwritten.\n",
    "If the file does not exist, a new file will be created.\n",
    "\"a\" (append mode) - opens the file for writing, but data is appended to the end of the file if it already exists.\n",
    "If the file does not exist, a new file will be created.\n",
    "\"x\" (exclusive creation mode) - opens the file for writing, but only if the file does not already exist. \n",
    "If the file exists, the open() function will raise an error.\n",
    "\"b\" (binary mode) - opens the file in binary mode. This mode should be used when working with binary files, \n",
    "such as images or audio files.\"t\" (text mode) - opens the file in text mode. This is the default mode if no mode is specified,\n",
    "and it should be used when working with text files.\"\"\""
   ]
  },
  {
   "cell_type": "code",
   "execution_count": null,
   "id": "1eb871df-c3c4-464e-86ae-c46e5aed2e72",
   "metadata": {},
   "outputs": [],
   "source": [
    "\"\"\"Q2. Why close() function is used? Why is it important to close a file?\n",
    "The close() function is used in Python to close a file that was previously opened with the open() function.\n",
    "Closing a file is important for several reasons:\n",
    "\n",
    "Releasing resources: When a file is opened, system resources are allocated for it. By closing the file,\n",
    "you release those resources back to the system, making them available for other processes.\n",
    "\n",
    "Flushing data to disk: When you write to a file, the data is not immediately written to the disk.\n",
    "Instead, it is temporarily stored in a buffer. When you close the file, the contents of the buffer are flushed to the disk,\n",
    "ensuring that the data is saved.\n",
    "\n",
    "Preventing data corruption: If a file is not closed properly, it may result in data corruption or other issues. For example,\n",
    "if your program crashes or terminates before the file is closed, the file may be left in an inconsistent state,\n",
    "which can cause data loss or other problems.\n",
    "\n",
    "\"\"\""
   ]
  },
  {
   "cell_type": "code",
   "execution_count": 2,
   "id": "8d8241db-e020-4666-b703-01241e81b19e",
   "metadata": {},
   "outputs": [
    {
     "name": "stdout",
     "output_type": "stream",
     "text": [
      "I want to become a Data Scientist\n"
     ]
    }
   ],
   "source": [
    "\"\"\"Q3. Write a python program to create a text file. Write ‘I want to become a Data Scientist’ in that file. Then\n",
    "close the file. Open this file and read the content of the file.\"\"\"\n",
    "# Creating a text file and writing to it\n",
    "with open(\"data_scientist.txt\", \"w\") as f:\n",
    "    f.write(\"I want to become a Data Scientist\")\n",
    "\n",
    "# Reading the contents of the file\n",
    "with open(\"data_scientist.txt\", \"r\") as f:\n",
    "    contents = f.read()\n",
    "    print(contents)\n",
    "    \"\"\"\n",
    "    In this program, we use the with statement to open the file. The with statement automatically closes the file for \n",
    "    you when you are done with it, even if an exception occurs. This makes it a convenient and reliable way to work \n",
    "    with files in Python.\n",
    "\n",
    "The first time we open the file, we use the \"w\" mode to open it for writing. This creates a new file with the specified name,\n",
    "or overwrites an existing file with the same name. We then write the string \"I want to become a Data Scientist\" to\n",
    "the file using the write() method.\n",
    "\n",
    "The second time we open the file, we use the \"r\" mode to open it for reading. This reads the contents of the file and\n",
    "stores it in the contents variable. Finally, we use the print() function to display the contents of the file on the screen.\"\"\""
   ]
  },
  {
   "cell_type": "code",
   "execution_count": null,
   "id": "751b4c8c-5e3d-4432-b937-03d2ee422c03",
   "metadata": {},
   "outputs": [],
   "source": [
    "\"\"\"Q4. Explain the following with python code: read(), readline() and readlines().\n",
    "In Python, the read(), readline(), and readlines() methods are used to read data from a text file.\n",
    "\n",
    "read() method: The read() method reads the entire contents of the file as a single string.\n",
    "readline() method: The readline() method reads one line of the file at a time.\n",
    "readlines() method: The readlines() method reads the entire file and returns a list of strings, where each string\n",
    "is a line of the file.\n",
    "It is important to note that the readline() and readlines() methods both return the lines with the line endings\n",
    "(newline characters). To remove the line endings, you can use the strip() method on the line.\n",
    "\"\"\""
   ]
  },
  {
   "cell_type": "code",
   "execution_count": null,
   "id": "1005af5d-7f0c-4eac-8fef-b0628358bae3",
   "metadata": {},
   "outputs": [],
   "source": [
    "\"\"\"Q5. Explain why with statement is used with open(). What is the advantage of using with statement and\n",
    "open() together?\n",
    "ans-The with statement is often used in conjunction with open() to handle files in Python because it provides several \n",
    "advantages over using open() alone.\n",
    "\n",
    "One advantage of using the with statement is that it automatically closes the file when you are done with it,\n",
    "even if an exception occurs. This ensures that the file is closed properly, which is important to prevent data loss \n",
    "and to release system resources.\n",
    "\n",
    "python\n",
    "\n",
    "Another advantage of using the with statement is that it helps to avoid resource leaks. If you forget to close the\n",
    "file after you are done with it, the file will remain open and consume system resources until the program terminates.\n",
    "With the with statement, you don't have to worry about forgetting to close the file because it is automatically closed \n",
    "for you.\n",
    "\n",
    "Finally, the with statement makes the code more readable and less prone to errors. By using the with statement, you can \n",
    "make the intent of your code clearer and avoid common mistakes, such as forgetting to close the file or incorrectly \n",
    "closing the file before you are done with it.\n",
    "\n",
    "In conclusion, using the with statement in conjunction with open() is a recommended best practice for working with files \n",
    "in Python because it provides a convenient and reliable way to handle files while ensuring that they are closed properly\n",
    "and without resource leaks.\n",
    "\"\"\""
   ]
  },
  {
   "cell_type": "code",
   "execution_count": 22,
   "id": "120b8850-795c-4801-8c27-2185edce560c",
   "metadata": {},
   "outputs": [],
   "source": [
    "\"\"\"Q6. Explain the write() and writelines() functions. Give a suitable example.\n",
    "In Python, the write() and writelines() functions are used to write data to a text file.\n",
    "\n",
    "write() function: The write() function writes a string to the file. If you want to write multiple lines to a file,\n",
    "you can call the write() function multiple times.\n",
    "\"\"\"\n",
    "\n",
    "with open(\"example.txt\", \"w\") as f:\n",
    "    f.write(\"Hello, World!\\n\")\n",
    "    f.write(\"This is a text file.\\n\")\n",
    " \n",
    "  #writelines function: The writelines() function writes a sequence of strings to the file. The strings are\n",
    "#concatenated without adding separators.\"\"\"\n",
    "\n",
    "\n",
    "lines = [\"Hello, World!\\n\", \"This is a text file.\\n\"]\n",
    "\n",
    "with open(\"example.txt\", \"w\") as f:\n",
    "    f.writelines(lines)\n",
    "   \n",
    "      #Note that if you use the writelines() function, you need to add the newline characters yourself, as they are not \n",
    "\n",
    "#automatically added for you.\n",
    "\n",
    "#Both the write() and writelines() functions overwrite the contents of the file when it is opened in write mode.\n",
    "#If you want to append to the file instead of overwriting it, you can open the file in append mode by using \"a\" instead of \"w\"."
   ]
  },
  {
   "cell_type": "code",
   "execution_count": null,
   "id": "a93c9d83-87e9-4b18-bb5b-7c6a2be7850f",
   "metadata": {},
   "outputs": [],
   "source": []
  },
  {
   "cell_type": "code",
   "execution_count": null,
   "id": "d94fcf88-8ce7-4eda-9585-969f99d60a1e",
   "metadata": {},
   "outputs": [],
   "source": []
  }
 ],
 "metadata": {
  "kernelspec": {
   "display_name": "Python 3 (ipykernel)",
   "language": "python",
   "name": "python3"
  },
  "language_info": {
   "codemirror_mode": {
    "name": "ipython",
    "version": 3
   },
   "file_extension": ".py",
   "mimetype": "text/x-python",
   "name": "python",
   "nbconvert_exporter": "python",
   "pygments_lexer": "ipython3",
   "version": "3.10.8"
  }
 },
 "nbformat": 4,
 "nbformat_minor": 5
}
